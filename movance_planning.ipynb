{
 "cells": [
  {
   "cell_type": "markdown",
   "metadata": {},
   "source": [
    "**Workout Optimization Pipeline Spreadsheet**\n",
    "\n",
    "| View Name | HK Variable 1 (Explanation) | HK Variable 2 (Explanation) | HK Variable 3 (Explanation) | Basic Inference or AI | Step in Pipeline |\n",
    "|-----------|-----------------------------|-----------------------------|-----------------------------|------------------------|----------------|\n",
    "| Recovery Score + Readiness Check | HKQuantityTypeIdentifier.heartRateVariabilitySDNN (Indicates recovery and stress levels) | HKQuantityTypeIdentifier.restingHeartRate (Higher RHR may indicate fatigue or overtraining) | HKCategoryTypeIdentifier.sleepAnalysis (Sleep duration and quality impact recovery) | AI | 1 |\n",
    "| Recovery Score + Readiness Check | HKQuantityTypeIdentifier.dietaryCarbohydrates (Ensures adequate fuel for energy demands) | HKQuantityTypeIdentifier.dietaryProtein (Protein levels for muscle recovery) | HKQuantityTypeIdentifier.dietaryWater (Hydration status affects performance and recovery) | Basic Inference | 1 |\n",
    "| Program Builder + Periodization Tracking + Readiness Check | HKWorkoutType.workoutType() (Tracks past workout history for periodization) | HKQuantityTypeIdentifier.vo2Max (Assesses cardio capacity and endurance readiness) | HKQuantityTypeIdentifier.stepCount (Daily activity levels impact fatigue) | AI | 2 |\n",
    "| Strain vs. Recovery | HKWorkoutType.workoutType() (Workout intensity and duration tracking) | HKQuantityTypeIdentifier.activeEnergyBurned (Measures training load) | HKQuantityTypeIdentifier.heartRateVariabilitySDNN (HRV trends help predict overtraining) | AI | 3 |\n",
    "| Strain vs. Recovery | HKQuantityTypeIdentifier.restingHeartRate (Chronic elevated RHR may indicate overtraining) | HKCategoryTypeIdentifier.sleepAnalysis (Poor sleep trends could suggest inadequate recovery) | HKQuantityTypeIdentifier.dietaryProtein (Protein availability for recovery) | Basic Inference | 3 |\n",
    "| Today's Plan + Pre-Workout Adjustments | HKWorkoutType.workoutType() (Ensures plan aligns with fitness goals) | HKQuantityTypeIdentifier.heartRate (Monitor intensity zones in real-time) | HKQuantityTypeIdentifier.dietaryCarbohydrates (Pre-workout carb availability impacts performance) | Basic Inference | 4 |\n",
    "| Post-Workout Window + AI Recovery Recommendations | HKQuantityTypeIdentifier.heartRateVariabilitySDNN (Monitors recovery effectiveness) | HKQuantityTypeIdentifier.heartRateRecoveryOneMinute (Cardio recovery efficiency indicator) | HKQuantityTypeIdentifier.dietaryWater (Hydration replenishment post-workout) | AI | 5 |\n",
    "\n",
    "**Revised Pipeline as a Table**\n",
    "\n",
    "| Step | View Name | Key Focus |\n",
    "|------|------------|-----------|\n",
    "| 1 | Recovery Score + Readiness Check | Combines HRV, RHR, sleep, hydration, and macros for a full-body readiness score |\n",
    "| 2 | Program Builder + Periodization Tracking + Readiness Check | Uses past workouts, VO2 max, and step count to refine fitness programming |\n",
    "| 3 | Strain vs. Recovery | AI-driven insights on training load vs. recovery to prevent overtraining |\n",
    "| 4 | Today's Plan + Pre-Workout Adjustments | Uses real-time data to adjust the day's workout for optimal performance |\n",
    "| 5 | Post-Workout Window + AI Recovery Recommendations | AI suggests recovery strategies based on HRV, hydration, and fatigue data |"
   ]
  },
  {
   "cell_type": "markdown",
   "metadata": {},
   "source": [
    "- Performance Foods (requires past workouts; else estimate imaginary workouts or track current hydration needs)\n",
    "- Form or Movement Analysis (requires ongoing workout; else prepare and review past workouts)\n",
    "- Readiness check\n",
    "    - Strain vs Recovery (requires past workouts and relies on HRV, RHR and sleep metrics)\n",
    "    - Fuel Check (requires nutrient logs, hydration)\n",
    "- Coach (motivation and push, track record and achievements)"
   ]
  }
 ],
 "metadata": {
  "language_info": {
   "name": "python"
  }
 },
 "nbformat": 4,
 "nbformat_minor": 2
}
